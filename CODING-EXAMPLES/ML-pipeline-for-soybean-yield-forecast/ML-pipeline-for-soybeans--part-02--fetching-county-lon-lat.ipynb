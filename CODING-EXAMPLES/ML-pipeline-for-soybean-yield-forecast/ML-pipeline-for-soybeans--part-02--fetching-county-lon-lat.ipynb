{
 "cells": [
  {
   "cell_type": "markdown",
   "id": "1e3c6e9d",
   "metadata": {},
   "source": [
    "## <span style=color:blue>Fetching the more-or-less central lat lon for each county/state pair of interest in our ML pipeline    </span>\n"
   ]
  },
  {
   "cell_type": "code",
   "execution_count": 46,
   "id": "b0828ae5",
   "metadata": {},
   "outputs": [],
   "source": [
    "# This useful if I want to give unique names to directories or files\n",
    "import datetime\n",
    "def curr_timestamp():\n",
    "    current_datetime = datetime.datetime.now()\n",
    "    formatted_datetime = current_datetime.strftime(\"%Y-%m-%d_%H-%M-%S\")\n",
    "    return formatted_datetime"
   ]
  },
  {
   "cell_type": "markdown",
   "id": "2f261ae1",
   "metadata": {},
   "source": [
    "<span style=color:blue>The year_state_county_yield.csv file holds all of the year-county-state triples of interest along with total soybean yield.</span>"
   ]
  },
  {
   "cell_type": "code",
   "execution_count": 47,
   "id": "e25dda58",
   "metadata": {},
   "outputs": [
    {
     "name": "stdout",
     "output_type": "stream",
     "text": [
      "number of rows in csv cleaned for ML:  9952\n",
      "\n",
      "   year state_name county_name  yield\n",
      "0  2022   ILLINOIS      BUREAU   67.5\n",
      "1  2021   ILLINOIS      BUREAU   66.4\n",
      "2  2020   ILLINOIS      BUREAU   64.8\n",
      "3  2019   ILLINOIS      BUREAU   57.4\n",
      "4  2018   ILLINOIS      BUREAU   68.5\n",
      "\n",
      "Number of state-county pairs is:  559\n"
     ]
    }
   ],
   "source": [
    "import pandas as pd\n",
    "\n",
    "archives_dir = '/Users/rick/AG-CODE--v03/ML-ARCHIVES--v01/'\n",
    "file = 'year_state_county_yield.csv'\n",
    "\n",
    "df = pd.read_csv(archives_dir + file)\n",
    "print('number of rows in csv cleaned for ML: ', len(df))\n",
    "print()\n",
    "print(df.head())\n",
    "\n",
    "\n",
    "df1 = df[['state_name','county_name']].drop_duplicates()\n",
    "print('\\nNumber of state-county pairs is: ', len(df1))\n"
   ]
  },
  {
   "cell_type": "markdown",
   "id": "c7305534",
   "metadata": {},
   "source": [
    "<span style=color:blue>The function geocode_county defined below won't work on \"DU PAGE\" county in Illinois.  But it does work on \"DUPAGE\".  So, changing the name in both df and df1 </span>"
   ]
  },
  {
   "cell_type": "code",
   "execution_count": 50,
   "id": "0122b597",
   "metadata": {},
   "outputs": [
    {
     "name": "stdout",
     "output_type": "stream",
     "text": [
      "[279, 280, 281, 282, 283]\n",
      "DUPAGE\n",
      "DUPAGE\n",
      "DUPAGE\n",
      "DUPAGE\n",
      "DUPAGE\n",
      "[279]\n",
      "DUPAGE\n"
     ]
    }
   ],
   "source": [
    "\n",
    "# including the \"or\" (i.e., \"|\") so that I can this cell is eidenpotent\n",
    "index = df.index[(df['county_name'] == 'DU PAGE') | (df['county_name'] == 'DUPAGE')].tolist()\n",
    "print(index)\n",
    "for ind in index:\n",
    "    df.at[ind, 'county_name'] = 'DUPAGE'\n",
    "    print(df.at[ind, 'county_name'])\n",
    "\n",
    "index1 = df1.index[(df1['county_name'] == 'DU PAGE') | (df1['county_name'] == 'DUPAGE')].tolist()\n",
    "print(index1)\n",
    "for ind in index1:\n",
    "    df1.at[ind, 'county_name'] = 'DUPAGE'\n",
    "    print(df1.at[ind, 'county_name'])\n"
   ]
  },
  {
   "cell_type": "markdown",
   "id": "a2286fc6",
   "metadata": {},
   "source": [
    "<span style=color:blue>Using geopy to fetch lon-lat for (approx center of) each county.  This cell takes a while to run</span>"
   ]
  },
  {
   "cell_type": "code",
   "execution_count": 41,
   "id": "826ad701",
   "metadata": {},
   "outputs": [
    {
     "name": "stdout",
     "output_type": "stream",
     "text": [
      "   state_name county_name        lon        lat\n",
      "0    ILLINOIS      BUREAU -89.534118  41.401629\n",
      "20   ILLINOIS     CARROLL -89.955679  42.064735\n",
      "40   ILLINOIS       HENRY -90.117744  41.341855\n",
      "60   ILLINOIS  JO DAVIESS -90.174374  42.350666\n",
      "79   ILLINOIS         LEE -89.286030  41.747311\n",
      "lon-lat for ILLINOIS-BUREAU is:  (-89.5341179, 41.4016294)\n"
     ]
    }
   ],
   "source": [
    "from geopy.geocoders import Nominatim\n",
    "\n",
    "# Geocoding function to retrieve coordinates for a county\n",
    "def geocode_county(state, county):\n",
    "    geolocator = Nominatim(user_agent=\"county_geocoder\")\n",
    "    location = geolocator.geocode(county + \", \" + state + \", USA\")\n",
    "    if location:\n",
    "        return location.longitude, location.latitude\n",
    "    else:\n",
    "        print('no lat-lon found for ', state, county)\n",
    "        return None, None\n",
    "        \n",
    "        \n",
    "df1['lon'] = df1.apply(lambda x: geocode_county(x['state_name'], x['county_name'])[0], axis=1)\n",
    "df1['lat'] = df1.apply(lambda x: geocode_county(x['state_name'], x['county_name'])[1], axis=1)\n",
    "\n",
    "print(df1.head())    \n",
    "print()\n",
    "\n",
    "print('lon-lat for ILLINOIS-BUREAU is: ', geocode_county('ILLINOIS', 'BUREAU'))\n"
   ]
  },
  {
   "cell_type": "markdown",
   "id": "180466de",
   "metadata": {},
   "source": [
    "<span style=color:blue>Archiving df1 for later use </span>"
   ]
  },
  {
   "cell_type": "code",
   "execution_count": 45,
   "id": "8fb19283",
   "metadata": {},
   "outputs": [
    {
     "name": "stdout",
     "output_type": "stream",
     "text": [
      "wrote file:  /Users/rick/AG-CODE--v03/ML-ARCHIVES--v01/state_county_lon_lat.csv\n"
     ]
    }
   ],
   "source": [
    "archives_dir = '/Users/rick/AG-CODE--v03/ML-ARCHIVES--v01/'\n",
    "filename = 'state_county_lon_lat.csv'\n",
    "df1.to_csv(archives_dir + filename, index=False)\n",
    "print('wrote file: ', archives_dir + filename)"
   ]
  }
 ],
 "metadata": {
  "kernelspec": {
   "display_name": "Python [conda env:ml]",
   "language": "python",
   "name": "conda-env-ml-py"
  },
  "language_info": {
   "codemirror_mode": {
    "name": "ipython",
    "version": 3
   },
   "file_extension": ".py",
   "mimetype": "text/x-python",
   "name": "python",
   "nbconvert_exporter": "python",
   "pygments_lexer": "ipython3",
   "version": "3.11.3"
  }
 },
 "nbformat": 4,
 "nbformat_minor": 5
}
