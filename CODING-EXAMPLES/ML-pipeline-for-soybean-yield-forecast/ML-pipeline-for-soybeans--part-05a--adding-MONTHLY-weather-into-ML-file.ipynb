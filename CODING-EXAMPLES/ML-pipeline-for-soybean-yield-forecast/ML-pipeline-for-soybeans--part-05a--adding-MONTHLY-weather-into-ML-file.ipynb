{
 "cells": [
  {
   "cell_type": "markdown",
   "id": "440a9303",
   "metadata": {},
   "source": [
    "## <span style=color:blue>This notebook has code for taking the weather data that was archived in part-04, aggregates by MONTHY, and re-formats to form a very wide row for each year-state-county triple.  We finish by creating a wide table for ML, that includes year-state-county, yield, soil data, and weather data </span>"
   ]
  },
  {
   "cell_type": "markdown",
   "id": "24e5904d",
   "metadata": {},
   "source": [
    "<span style=color:blue>First step is to pull import the weather files that were created for each year-state-county triple     </span>"
   ]
  },
  {
   "cell_type": "code",
   "execution_count": 60,
   "id": "5d41610c",
   "metadata": {},
   "outputs": [
    {
     "name": "stdout",
     "output_type": "stream",
     "text": [
      "(9952, 6)\n",
      "\n",
      "\n",
      "(214, 7)\n",
      "       date  T2M_MAX  T2M_MIN  PRECTOTCORR  GWETROOT  EVPTRNS  \\\n",
      "0  20180401    -0.91    -6.36         0.18      0.78      0.0   \n",
      "1  20180402     5.39    -5.29         0.26      0.78      0.0   \n",
      "2  20180403     7.16    -0.85         4.00      0.79      0.0   \n",
      "3  20180404     2.90    -4.00         0.08      0.79      0.0   \n",
      "4  20180405     3.16    -4.54         1.37      0.78      0.0   \n",
      "\n",
      "   ALLSKY_SFC_PAR_TOT  \n",
      "0               51.96  \n",
      "1               83.03  \n",
      "2               22.30  \n",
      "3               95.11  \n",
      "4               58.27  \n"
     ]
    }
   ],
   "source": [
    "import pandas as pd\n",
    "\n",
    "archive_dir = '/Users/rick/AG-CODE--v03/ML-ARCHIVES--v01/'\n",
    "yscyll_filename = 'year_state_county_yield_lon_lat.csv'\n",
    "\n",
    "weather_dir = archive_dir + 'WEATHER-DATA--v01/'\n",
    "wdtemplate = r'weather-data-for-index__{padded}.csv'\n",
    "\n",
    "df_yscyll = pd.read_csv(archive_dir + yscyll_filename)\n",
    "print(df_yscyll.shape)\n",
    "print()\n",
    "\n",
    "w_df = {}\n",
    "for i in range(0,len(df_yscyll)):\n",
    "    padded = str(i).zfill(4)\n",
    "    w_df[i] = pd.read_csv(weather_dir + wdtemplate.format(padded=padded))\n",
    "    # Want to have a name for the index of my dataframe\n",
    "    w_df[i].rename(columns={'Unnamed: 0': 'date'}, \n",
    "                   inplace=True)\n",
    "    # w_df[i] = w_df[i].rename_axis(index='DATE')\n",
    "    \n",
    "print()\n",
    "print(w_df[4].shape)\n",
    "print(w_df[4].head())"
   ]
  },
  {
   "cell_type": "markdown",
   "id": "d8a1f1fb",
   "metadata": {},
   "source": [
    "<span style=color:blue>Test of grouping by MONTH </span>"
   ]
  },
  {
   "cell_type": "code",
   "execution_count": 61,
   "id": "b3c014a1",
   "metadata": {},
   "outputs": [
    {
     "name": "stdout",
     "output_type": "stream",
     "text": [
      "            T2M_MAX    T2M_MIN  PRECTOTCORR  GWETROOT   EVPTRNS  \\\n",
      "date                                                              \n",
      "20180430  10.749333  -0.650333        33.30  0.772333  0.168333   \n",
      "20180531  25.752903  13.560323       126.08  0.723871  1.002581   \n",
      "20180630  27.648333  17.241000       172.80  0.711667  1.758333   \n",
      "20180731  27.861290  17.300000        65.35  0.636774  2.460323   \n",
      "20180831  29.693548  18.430000       112.82  0.547419  0.941613   \n",
      "20180930  25.644333  13.959667        86.09  0.581667  0.929333   \n",
      "20181031  16.171613   4.874194       104.68  0.610968  0.216774   \n",
      "\n",
      "          ALLSKY_SFC_PAR_TOT  \n",
      "date                          \n",
      "20180430             2661.21  \n",
      "20180531             3424.52  \n",
      "20180630             3447.89  \n",
      "20180731             3992.43  \n",
      "20180831             3056.50  \n",
      "20180930             2444.94  \n",
      "20181031             1708.35  \n"
     ]
    }
   ],
   "source": [
    "# takes as input a dataframe whose index field is called \"date\" and\n",
    "#   holds 8-character dates, and with columns \n",
    "#   ['T2M_MAX', 'T2M_MIN', 'PRECTOTCORR', 'GWETROOT', 'EVPTRNS', 'ALLSKY_SFC_PAR_TOT']\n",
    "# produces dataframe with same shape, but the values are grouped by MONTH,\n",
    "#   with a particular aggregation used for each column\n",
    "\n",
    "def create_monthly_df(df):\n",
    "    df1 = df.copy()\n",
    "    # convert index to datetime format    \n",
    "    df1.index = pd.to_datetime(df['date'], format='%Y%m%d')\n",
    "    # use 'M' for monthly, use 'W' for weekly\n",
    "    df1_monthly = df1.resample('M').agg({'T2M_MAX':'mean',\n",
    "                                       'T2M_MIN':'mean',\n",
    "                                       'PRECTOTCORR':'sum',\n",
    "                                       'GWETROOT':'mean',\n",
    "                                       'EVPTRNS':'mean',\n",
    "                                       'ALLSKY_SFC_PAR_TOT':'sum'})    \n",
    "\n",
    "    # convert index back to string format YYYYMM\n",
    "    df1_monthly.index = df1_monthly.index.strftime('%Y%m%d')\n",
    "    \n",
    "    return df1_monthly\n",
    "    \n",
    "\n",
    "\n",
    "print(create_monthly_df(w_df[4]).head(50))"
   ]
  },
  {
   "cell_type": "markdown",
   "id": "50d1f67f",
   "metadata": {},
   "source": [
    "<span style=color:blue>Function that creates a list of all the column names I want for the MONTHLY weather data.    </span>"
   ]
  },
  {
   "cell_type": "code",
   "execution_count": 51,
   "id": "24f09919",
   "metadata": {},
   "outputs": [
    {
     "name": "stdout",
     "output_type": "stream",
     "text": [
      "['T2M_MAX', 'T2M_MIN', 'PRECTOTCORR', 'GWETROOT', 'EVPTRNS', 'ALLSKY_SFC_PAR_TOT']\n",
      "\n",
      "7\n",
      "['month_00__T2M_MAX', 'month_00__T2M_MIN', 'month_00__PRECTOTCORR', 'month_00__GWETROOT', 'month_00__EVPTRNS', 'month_00__ALLSKY_SFC_PAR_TOT', 'month_01__T2M_MAX', 'month_01__T2M_MIN', 'month_01__PRECTOTCORR', 'month_01__GWETROOT', 'month_01__EVPTRNS', 'month_01__ALLSKY_SFC_PAR_TOT', 'month_02__T2M_MAX', 'month_02__T2M_MIN', 'month_02__PRECTOTCORR', 'month_02__GWETROOT', 'month_02__EVPTRNS', 'month_02__ALLSKY_SFC_PAR_TOT', 'month_03__T2M_MAX', 'month_03__T2M_MIN', 'month_03__PRECTOTCORR', 'month_03__GWETROOT', 'month_03__EVPTRNS', 'month_03__ALLSKY_SFC_PAR_TOT', 'month_04__T2M_MAX', 'month_04__T2M_MIN', 'month_04__PRECTOTCORR', 'month_04__GWETROOT', 'month_04__EVPTRNS', 'month_04__ALLSKY_SFC_PAR_TOT', 'month_05__T2M_MAX', 'month_05__T2M_MIN', 'month_05__PRECTOTCORR', 'month_05__GWETROOT', 'month_05__EVPTRNS', 'month_05__ALLSKY_SFC_PAR_TOT', 'month_06__T2M_MAX', 'month_06__T2M_MIN', 'month_06__PRECTOTCORR', 'month_06__GWETROOT', 'month_06__EVPTRNS', 'month_06__ALLSKY_SFC_PAR_TOT']\n",
      "42\n"
     ]
    }
   ],
   "source": [
    "import json\n",
    "\n",
    "df_t0 = w_df[0]\n",
    "cols_narrow = df_t0.columns.values.tolist()[1:]\n",
    "print(cols_narrow)\n",
    "\n",
    "print()\n",
    "\n",
    "df_t1 = create_monthly_df(df_t0)     # dfw['0001']\n",
    "print(len(df_t1))\n",
    "# print(df_t1.head())\n",
    "\n",
    "cols_wide = []\n",
    "for i in range(0,len(df_t1)):\n",
    "    row = df_t1.iloc[i]\n",
    "    # print(row)\n",
    "    # can't use date, because it has year built in, and weeks start on different numbers...\n",
    "    month_id = 'month_' + str(i).zfill(2)\n",
    "    # print(date)\n",
    "    for c in cols_narrow:\n",
    "        cols_wide.append(month_id + '__' + c)\n",
    "        \n",
    "print(cols_wide)\n",
    "print(len(cols_wide))"
   ]
  },
  {
   "cell_type": "markdown",
   "id": "7997589b",
   "metadata": {},
   "source": [
    "<span style=color:blue>Function that takes in weather data for one year-state-city triple and produces list of all the MONTHLY weather values, in correct order     </span>"
   ]
  },
  {
   "cell_type": "code",
   "execution_count": 52,
   "id": "23eb918a",
   "metadata": {},
   "outputs": [
    {
     "name": "stdout",
     "output_type": "stream",
     "text": [
      "['T2M_MAX', 'T2M_MIN', 'PRECTOTCORR', 'GWETROOT', 'EVPTRNS', 'ALLSKY_SFC_PAR_TOT']\n",
      "(214, 7)\n",
      "(7, 6)\n",
      "            T2M_MAX    T2M_MIN  PRECTOTCORR  GWETROOT   EVPTRNS  \\\n",
      "date                                                              \n",
      "20220430  13.714333   1.584000        89.94  0.746333  0.151000   \n",
      "20220531  22.248387  11.422581        88.10  0.730323  0.744516   \n",
      "20220630  27.599667  15.388000        70.19  0.642333  2.118333   \n",
      "20220731  29.000968  17.890645       113.76  0.567419  1.590000   \n",
      "20220831  28.850000  17.449677       126.05  0.547097  0.905484   \n",
      "20220930  25.354000  12.574000        67.10  0.551000  0.582333   \n",
      "20221031  18.133871   4.468065        49.51  0.540323  0.098065   \n",
      "\n",
      "          ALLSKY_SFC_PAR_TOT  \n",
      "date                          \n",
      "20220430             2473.60  \n",
      "20220531             2937.03  \n",
      "20220630             4023.87  \n",
      "20220731             3645.67  \n",
      "20220831             3161.41  \n",
      "20220930             2640.65  \n",
      "20221031             2086.28  \n",
      "[\n",
      "    13.714333333333334,\n",
      "    1.5839999999999999,\n",
      "    89.94,\n",
      "    0.7463333333333334,\n",
      "    0.151,\n",
      "    2473.6,\n",
      "    22.248387096774195,\n",
      "    11.422580645161291,\n",
      "    88.1,\n",
      "    0.7303225806451613,\n",
      "    0.7445161290322581,\n",
      "    2937.0299999999997,\n",
      "    27.599666666666668,\n",
      "    15.388,\n",
      "    70.19,\n",
      "    0.6423333333333333,\n",
      "    2.118333333333333,\n",
      "    4023.87,\n",
      "    29.000967741935483,\n",
      "    17.890645161290323,\n",
      "    113.76,\n",
      "    0.5674193548387096,\n",
      "    1.59,\n",
      "    3645.67,\n",
      "    28.85,\n",
      "    17.449677419354842,\n",
      "    126.05,\n",
      "    0.5470967741935484,\n",
      "    0.905483870967742,\n",
      "    3161.41,\n",
      "    25.354,\n",
      "    12.574000000000002,\n",
      "    67.10000000000001,\n",
      "    0.551,\n",
      "    0.5823333333333333,\n",
      "    2640.65,\n",
      "    18.133870967741935,\n",
      "    4.468064516129032,\n",
      "    49.51,\n",
      "    0.5403225806451613,\n",
      "    0.09806451612903226,\n",
      "    2086.28\n",
      "]\n"
     ]
    }
   ],
   "source": [
    "# starts with a df with the weekly aggregates for weather params,\n",
    "# and produces a long sequence of all the MONTHLY weather values, in order corresponding to cols_wide\n",
    "\n",
    "print(w_df[0].columns.tolist()[1:])\n",
    "print(w_df[0].shape)\n",
    "print(create_monthly_df(w_df[0]).shape)\n",
    "\n",
    "def create_weather_seq_for_monthly(dfw):\n",
    "    seq = []\n",
    "    cols = dfw.columns.tolist()\n",
    "    for i in range(0,len(dfw)):\n",
    "        for c in cols:\n",
    "            seq.append(dfw.iloc[i][c])\n",
    "    return seq\n",
    "\n",
    "# sanity check\n",
    "dfw = create_monthly_df(w_df[0])\n",
    "print(dfw.head(10))\n",
    "\n",
    "seqw = create_weather_seq_for_monthly(dfw)\n",
    "print(json.dumps(seqw, indent=4))"
   ]
  },
  {
   "cell_type": "markdown",
   "id": "29ec6435",
   "metadata": {},
   "source": [
    "<span style=color:blue>Building a dictionary that has indexes from df_yscy as keys, and the MONTHLY weather sequences as values    </span>"
   ]
  },
  {
   "cell_type": "code",
   "execution_count": 53,
   "id": "36e3b803",
   "metadata": {},
   "outputs": [
    {
     "name": "stdout",
     "output_type": "stream",
     "text": [
      "Completed processing for index:  0\n",
      "Completed processing for index:  500\n",
      "Completed processing for index:  1000\n",
      "Completed processing for index:  1500\n",
      "Completed processing for index:  2000\n",
      "Completed processing for index:  2500\n",
      "Completed processing for index:  3000\n",
      "Completed processing for index:  3500\n",
      "Completed processing for index:  4000\n",
      "Completed processing for index:  4500\n",
      "Completed processing for index:  5000\n",
      "Completed processing for index:  5500\n",
      "Completed processing for index:  6000\n",
      "Completed processing for index:  6500\n",
      "Completed processing for index:  7000\n",
      "Completed processing for index:  7500\n",
      "Completed processing for index:  8000\n",
      "Completed processing for index:  8500\n",
      "Completed processing for index:  9000\n",
      "Completed processing for index:  9500\n"
     ]
    }
   ],
   "source": [
    "import time\n",
    "\n",
    "u_df = {}   # each entry will hold a df corresponding to a weather .csv file \n",
    "dfw = {}    # each entry will hold the df corresponding to monthly aggregation of a weather .csv file\n",
    "seqw = {}   # each entry will hold the \"flattening\" of the monthly aggregation df\n",
    "\n",
    "\n",
    "for i in range(0,len(df_yscyll)):\n",
    "    padded = str(i).zfill(4)\n",
    "    # print(padded)\n",
    "    u_df[padded] = pd.read_csv(weather_dir + wdtemplate.format(padded=padded))\n",
    "    # Want to have a name for the index of my dataframe\n",
    "    u_df[padded].rename(columns={'Unnamed: 0': 'date'}, \n",
    "                   inplace=True)\n",
    "    \n",
    "    dfw[padded] = create_monthly_df(u_df[padded])\n",
    "    # print(dfw.head())\n",
    "\n",
    "    seqw[i] = create_weather_seq_for_monthly(dfw[padded])\n",
    "    # print(json.dumps(dictw, indent=4)\n",
    "    \n",
    "    # introducing a small occassional sleep because my python kernel kept complaining about\n",
    "    # exceeding some I/O threshold\n",
    "    if i % 30 == 0:\n",
    "        time.sleep(0.05)\n",
    "        \n",
    "    if i > 9000 and i % 100 == 0:\n",
    "        time.sleep(0.5)\n",
    "    \n",
    "    if i % 500 == 0:\n",
    "        print('Completed processing for index: ', i)\n",
    "    \n",
    "    \n",
    "# sanity check\n",
    "# print(json.dumps(seqw, indent=4))\n"
   ]
  },
  {
   "cell_type": "code",
   "execution_count": 62,
   "id": "72e2cc63",
   "metadata": {},
   "outputs": [
    {
     "name": "stdout",
     "output_type": "stream",
     "text": [
      "9952\n"
     ]
    },
    {
     "name": "stderr",
     "output_type": "stream",
     "text": [
      "IOPub data rate exceeded.\n",
      "The notebook server will temporarily stop sending output\n",
      "to the client in order to avoid crashing it.\n",
      "To change this limit, set the config variable\n",
      "`--NotebookApp.iopub_data_rate_limit`.\n",
      "\n",
      "Current values:\n",
      "NotebookApp.iopub_data_rate_limit=1000000.0 (bytes/sec)\n",
      "NotebookApp.rate_limit_window=3.0 (secs)\n",
      "\n"
     ]
    }
   ],
   "source": [
    "print(len(seqw))\n",
    "print(json.dumps(seqw, indent=4))"
   ]
  },
  {
   "cell_type": "markdown",
   "id": "c6cc7de7",
   "metadata": {},
   "source": [
    "<span style=color:blue>Converting the dictionary with a sequence for each year-state-county triple into a df     </span>"
   ]
  },
  {
   "cell_type": "code",
   "execution_count": 63,
   "id": "dadb628f",
   "metadata": {},
   "outputs": [
    {
     "name": "stdout",
     "output_type": "stream",
     "text": [
      "(7, 6)\n",
      "42\n",
      "9952\n",
      "42\n",
      "\n",
      "(9952, 42)\n",
      "\n",
      "   month_00__T2M_MAX  month_00__T2M_MIN  month_00__PRECTOTCORR  \\\n",
      "0          13.714333           1.584000                  89.94   \n",
      "1          16.245667           4.572000                  59.88   \n",
      "2          14.029333           2.215667                 107.80   \n",
      "3          15.576000           3.632000                 129.76   \n",
      "4          10.749333          -0.650333                  33.30   \n",
      "\n",
      "   month_00__GWETROOT  month_00__EVPTRNS  month_00__ALLSKY_SFC_PAR_TOT  \\\n",
      "0            0.746333           0.151000                       2473.60   \n",
      "1            0.710000           0.283333                       2868.94   \n",
      "2            0.853000           0.133000                       2791.42   \n",
      "3            0.817333           0.194333                       2491.24   \n",
      "4            0.772333           0.168333                       2661.21   \n",
      "\n",
      "   month_01__T2M_MAX  month_01__T2M_MIN  month_01__PRECTOTCORR  \\\n",
      "0          22.248387          11.422581                  88.10   \n",
      "1          20.515484           9.493871                 103.57   \n",
      "2          19.813871           8.970000                 140.66   \n",
      "3          20.671290           9.375806                 211.16   \n",
      "4          25.752903          13.560323                 126.08   \n",
      "\n",
      "   month_01__GWETROOT  ...  month_05__PRECTOTCORR  month_05__GWETROOT  \\\n",
      "0            0.730323  ...                  67.10            0.551000   \n",
      "1            0.690000  ...                  26.31            0.508333   \n",
      "2            0.876452  ...                 143.42            0.589333   \n",
      "3            0.879355  ...                 245.06            0.650667   \n",
      "4            0.723871  ...                  86.09            0.581667   \n",
      "\n",
      "   month_05__EVPTRNS  month_05__ALLSKY_SFC_PAR_TOT  month_06__T2M_MAX  \\\n",
      "0           0.582333                       2640.65          18.133871   \n",
      "1           0.164667                       2731.53          19.612903   \n",
      "2           0.701667                       2225.40          15.380000   \n",
      "3           1.087000                       2281.52          15.046774   \n",
      "4           0.929333                       2444.94          16.171613   \n",
      "\n",
      "   month_06__T2M_MIN  month_06__PRECTOTCORR  month_06__GWETROOT  \\\n",
      "0           4.468065                  49.51            0.540323   \n",
      "1           9.828710                 180.94            0.574839   \n",
      "2           3.402581                  60.87            0.588387   \n",
      "3           4.569355                 117.51            0.735484   \n",
      "4           4.874194                 104.68            0.610968   \n",
      "\n",
      "   month_06__EVPTRNS  month_06__ALLSKY_SFC_PAR_TOT  \n",
      "0           0.098065                       2086.28  \n",
      "1           0.146129                       1541.99  \n",
      "2           0.202903                       1705.02  \n",
      "3           0.254194                       1682.48  \n",
      "4           0.216774                       1708.35  \n",
      "\n",
      "[5 rows x 42 columns]\n"
     ]
    }
   ],
   "source": [
    "print(dfw['0000'].shape)\n",
    "print(len(cols_wide))\n",
    "print(len(df_yscyll))\n",
    "print(len(seqw[0]))\n",
    "print()\n",
    "\n",
    "df_wide_weather_monthly = pd.DataFrame.from_dict(seqw, orient='index', columns=cols_wide)\n",
    "\n",
    "print(df_wide_weather_monthly.shape)\n",
    "print()\n",
    "print(df_wide_weather_monthly.head())"
   ]
  },
  {
   "cell_type": "code",
   "execution_count": null,
   "id": "a0a7bec0",
   "metadata": {},
   "outputs": [],
   "source": []
  },
  {
   "cell_type": "code",
   "execution_count": null,
   "id": "affade89",
   "metadata": {},
   "outputs": [],
   "source": []
  },
  {
   "cell_type": "markdown",
   "id": "48cb6605",
   "metadata": {},
   "source": [
    "<span style=color:blue>Merge projection of state-county-lat-lon-soil table into projection of yscyll table</span>"
   ]
  },
  {
   "cell_type": "code",
   "execution_count": 55,
   "id": "2607356b",
   "metadata": {},
   "outputs": [
    {
     "name": "stdout",
     "output_type": "stream",
     "text": [
      "(559, 27)\n",
      "\n",
      "(9952, 29)\n",
      "   year state_name county_name  yield  nutr_ret_high  suit_irrig_high_soy  \\\n",
      "0  2022   ILLINOIS      BUREAU   67.5             10                10000   \n",
      "1  2021   ILLINOIS      BUREAU   66.4             10                10000   \n",
      "2  2020   ILLINOIS      BUREAU   64.8             10                10000   \n",
      "3  2019   ILLINOIS      BUREAU   57.4             10                10000   \n",
      "4  2018   ILLINOIS      BUREAU   68.5             10                10000   \n",
      "\n",
      "   AEZ_1  AEZ_2  AEZ_3  AEZ_4  ...  SQH_5  SQH_6  SQH_7  SQL_1  SQL_2  SQL_3  \\\n",
      "0      0      1      0      0  ...      0      0      1      0      0      0   \n",
      "1      0      1      0      0  ...      0      0      1      0      0      0   \n",
      "2      0      1      0      0  ...      0      0      1      0      0      0   \n",
      "3      0      1      0      0  ...      0      0      1      0      0      0   \n",
      "4      0      1      0      0  ...      0      0      1      0      0      0   \n",
      "\n",
      "   SQL_4  SQL_5  SQL_6  SQL_7  \n",
      "0      0      1      0      0  \n",
      "1      0      1      0      0  \n",
      "2      0      1      0      0  \n",
      "3      0      1      0      0  \n",
      "4      0      1      0      0  \n",
      "\n",
      "[5 rows x 29 columns]\n"
     ]
    }
   ],
   "source": [
    "sclls_file = 'state_county_lon_lat_soil.csv'\n",
    "\n",
    "df_scsoil = pd.read_csv(archive_dir + sclls_file).drop(columns=['lon','lat'])\n",
    "print(df_scsoil.shape)\n",
    "# print(df_scsoil.head())\n",
    "\n",
    "# will continue working with df_yscyll because updated DU PAGE county \n",
    "#     (and might update other things in future versions...)\n",
    "\n",
    "df_ysc_y_soil = pd.merge(df_yscyll, df_scsoil, on=['state_name','county_name'],how='left')\n",
    "\n",
    "df_ysc_y_soil = df_ysc_y_soil.drop(columns=['lon','lat'])\n",
    "\n",
    "print()\n",
    "print(df_ysc_y_soil.shape)\n",
    "print(df_ysc_y_soil.head())\n"
   ]
  },
  {
   "cell_type": "markdown",
   "id": "b16e5c4d",
   "metadata": {},
   "source": [
    "<span style=color:blue>Merge df_wide_weather_monthly into df_ysc_y_soil</span>"
   ]
  },
  {
   "cell_type": "code",
   "execution_count": 64,
   "id": "6a1af0e3",
   "metadata": {},
   "outputs": [
    {
     "name": "stdout",
     "output_type": "stream",
     "text": [
      "(9952, 71)\n",
      "    year state_name county_name  yield  nutr_ret_high  suit_irrig_high_soy  \\\n",
      "28  2014   ILLINOIS     CARROLL   60.4             10                10000   \n",
      "29  2013   ILLINOIS     CARROLL   57.9             10                10000   \n",
      "30  2012   ILLINOIS     CARROLL   59.0             10                10000   \n",
      "31  2011   ILLINOIS     CARROLL   63.7             10                10000   \n",
      "32  2010   ILLINOIS     CARROLL   58.9             10                10000   \n",
      "\n",
      "    AEZ_1  AEZ_2  AEZ_3  AEZ_4  ...  month_05__PRECTOTCORR  \\\n",
      "28      0      1      0      0  ...                  83.12   \n",
      "29      0      1      0      0  ...                  44.90   \n",
      "30      0      1      0      0  ...                  46.86   \n",
      "31      0      1      0      0  ...                  75.98   \n",
      "32      0      1      0      0  ...                  56.90   \n",
      "\n",
      "    month_05__GWETROOT  month_05__EVPTRNS  month_05__ALLSKY_SFC_PAR_TOT  \\\n",
      "28            0.572333           0.859333                       2540.37   \n",
      "29            0.511333           0.184667                       2738.74   \n",
      "30            0.497667           0.082667                       2717.08   \n",
      "31            0.553000           0.571667                       2372.49   \n",
      "32            0.632667           1.096000                       2405.58   \n",
      "\n",
      "    month_06__T2M_MAX  month_06__T2M_MIN  month_06__PRECTOTCORR  \\\n",
      "28          15.988710           5.236774                  74.84   \n",
      "29          17.034516           5.190323                  80.48   \n",
      "30          16.157097           3.659355                  80.44   \n",
      "31          18.182258           5.690968                  29.12   \n",
      "32          18.499032           5.647097                  58.80   \n",
      "\n",
      "    month_06__GWETROOT  month_06__EVPTRNS  month_06__ALLSKY_SFC_PAR_TOT  \n",
      "28            0.586774           0.196129                       1657.02  \n",
      "29            0.532903           0.094516                       1601.72  \n",
      "30            0.520645           0.034194                       1659.45  \n",
      "31            0.551613           0.211290                       1954.97  \n",
      "32            0.593548           0.372258                       2099.40  \n",
      "\n",
      "[5 rows x 71 columns]\n"
     ]
    }
   ],
   "source": [
    "df_ysc_y_soil_weather_monthly = pd.concat([df_ysc_y_soil, df_wide_weather_monthly], axis='columns')\n",
    "\n",
    "print(df_ysc_y_soil_weather_monthly.shape)\n",
    "# print(df_ysc_y_soil_weather_monthly.head(10))\n",
    "print(df_ysc_y_soil_weather_monthly.loc[28:32,:])"
   ]
  },
  {
   "cell_type": "markdown",
   "id": "cdfd2cae",
   "metadata": {},
   "source": [
    "<span style=color:blue>Write the resulting table for ML learning to disk</span>"
   ]
  },
  {
   "cell_type": "code",
   "execution_count": 65,
   "id": "041c6169",
   "metadata": {},
   "outputs": [
    {
     "name": "stdout",
     "output_type": "stream",
     "text": [
      "Wrote file  /Users/rick/AG-CODE--v03/ML-ARCHIVES--v01/ML-TABLES--v01/ML-table-monthly.csv\n"
     ]
    }
   ],
   "source": [
    "ml_tables_dir = archive_dir + 'ML-TABLES--v01/'\n",
    "\n",
    "ml_file = 'ML-table-monthly.csv'\n",
    "\n",
    "df_ysc_y_soil_weather_monthly.to_csv(ml_tables_dir + ml_file, index=False)\n",
    "\n",
    "print('Wrote file ', ml_tables_dir + ml_file)"
   ]
  },
  {
   "cell_type": "code",
   "execution_count": null,
   "id": "fbb3b54e",
   "metadata": {},
   "outputs": [],
   "source": []
  }
 ],
 "metadata": {
  "kernelspec": {
   "display_name": "Python [conda env:ml]",
   "language": "python",
   "name": "conda-env-ml-py"
  },
  "language_info": {
   "codemirror_mode": {
    "name": "ipython",
    "version": 3
   },
   "file_extension": ".py",
   "mimetype": "text/x-python",
   "name": "python",
   "nbconvert_exporter": "python",
   "pygments_lexer": "ipython3",
   "version": "3.11.3"
  }
 },
 "nbformat": 4,
 "nbformat_minor": 5
}
