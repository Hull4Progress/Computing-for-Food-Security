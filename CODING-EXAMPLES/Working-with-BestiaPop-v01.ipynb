{
 "cells": [
  {
   "cell_type": "markdown",
   "id": "41503330",
   "metadata": {},
   "source": [
    "## <span style=color:blue>Working with BestiaPop</span>\n",
    "\n",
    "### <span style=color:blue>I downloaded BestiaPop from github: https://github.com/JJguri/bestiapop .  That was built using python 3.7.  It doesn't work with python 3.10 because the file nasapower_connector.py within BestiaPop uses the dataframe append command, but in python 3.10 pandas was updated and append was deprecated.  (One has to use concat instead).  So I created a python environment that runs python 3.7 rather than python 3.10.  I run this notebook in my python 3.7 environment.</span>"
   ]
  },
  {
   "cell_type": "code",
   "execution_count": 7,
   "id": "d3f97dc0",
   "metadata": {},
   "outputs": [
    {
     "name": "stdout",
     "output_type": "stream",
     "text": [
      "Initial imports successful\n"
     ]
    }
   ],
   "source": [
    "import sys\n",
    "import os\n",
    "import subprocess\n",
    "import shutil\n",
    "# use shutil.rmtree(<path_to_folder>) to do an rm -r on the folder\n",
    "\n",
    "import json\n",
    "import csv\n",
    "import yaml\n",
    "\n",
    "import pandas as pd\n",
    "import numpy as np\n",
    "\n",
    "import matplotlib as mpl\n",
    "from cycler import cycler\n",
    "\n",
    "import matplotlib.pyplot as plt\n",
    "import seaborn as sns\n",
    "sns.set(style=\"darkgrid\")\n",
    "\n",
    "# This useful if I want to give unique names to directories or files\n",
    "import datetime\n",
    "def curr_timestamp():\n",
    "    current_datetime = datetime.datetime.now()\n",
    "    formatted_datetime = current_datetime.strftime(\"%Y-%m-%d_%H-%M-%S\")\n",
    "    return formatted_datetime\n",
    "\n",
    "print('Initial imports successful')"
   ]
  },
  {
   "cell_type": "markdown",
   "id": "39fea573",
   "metadata": {},
   "source": [
    "<span style=color:blue>\n",
    "The following cell illustrates how we can invoke methods directly from the github version of bestiapop.  However, since the bestiapop code uses an append on a dataframe, and pandas deprecated the append operator for dataframes, I could not make the downloaded bestiapop work.\n",
    "\n",
    "More specifically, even though I am running in python3.7, if I use BestiaPop from the github repo then somehow my python kernel finds a recent version of pandas in which dataframe append has been deprecated.  (See the last cell in this notebook.)  \n",
    "\n",
    "So I made a one-line change to the module nasapower_connector.py within the file bestiapop/bestiapop/connectors/nasapower_connector.py.  Specifically, somewhere near line 353 I replaced the line \"total_climate_df = total_climate_df.append(var_year_lat_lon_df)\" with the line \"total_climate_df = pd.concat([total_climate_df, var_year_lat_lon_df])\".\n",
    "\n",
    "Also, it seems that I needed to change the names of both the outer \"bestiapop\" directory and the inner \"bestiapop\" directory, because otherwise the system was giving me errors because it was calling some stray files from a previous import of the PyPi version of bestiapop.</span>\n"
   ]
  },
  {
   "cell_type": "code",
   "execution_count": 8,
   "id": "008f4964",
   "metadata": {},
   "outputs": [
    {
     "name": "stderr",
     "output_type": "stream",
     "text": [
      "2023-04-25 17:38:54 - POPBEAST - Extracting data and converting to met format\n"
     ]
    },
    {
     "name": "stdout",
     "output_type": "stream",
     "text": [
      "Output files will be written into:  /Users/rick/AG-CODE--v02/BESTIAPOP/OUTPUTS/test_2023-04-25_17-38-54 \n",
      "\n",
      "Fetching data for [-42.5, -42]/[145.5, 146.5]\n",
      "\n",
      "The climate_data object has value:\n",
      " <bestiapop_INSIDE.bestiapop.CLIMATEBEAST object at 0x11261e890>\n",
      "\n",
      "\n",
      "The fields with the climate_data object are:\n",
      "\n",
      " ['logger', 'multiprocessing', 'total_parallel_climate_df', 'final_parallel_lon_range', 'output_type', 'action', 'climate_variables', 'data_source', 'input_path', 'outputdir', 'year_range', 'lat_range', 'lon_range', '__module__', '__doc__', '__init__', 'process_parallel_records', 'process_parallel_met', 'process_parallel_output', 'process_records', '__dict__', '__weakref__', '__new__', '__repr__', '__hash__', '__str__', '__getattribute__', '__setattr__', '__delattr__', '__lt__', '__le__', '__eq__', '__ne__', '__gt__', '__ge__', '__reduce_ex__', '__reduce__', '__subclasshook__', '__init_subclass__', '__format__', '__sizeof__', '__dir__', '__class__']\n",
      "\n",
      "invoking climate_data.process_records(action)\n",
      "\n",
      "Total Progress: 100%|#############################| 2/2 [00:18<00:00,  9.26s/it]\n",
      "\n",
      "finished with invocation of climate_data.process_records(action)\n",
      "\n",
      "\n",
      "The list of files created is as follows:\n",
      "\n",
      "total 384\n",
      "-rw-r--r--  1 rick  staff  29172 Apr 25 17:39 -42.0-145.5.met\n",
      "-rw-r--r--  1 rick  staff  29028 Apr 25 17:39 -42.0-146.0.met\n",
      "-rw-r--r--  1 rick  staff  29028 Apr 25 17:39 -42.0-146.5.met\n",
      "-rw-r--r--  1 rick  staff  29382 Apr 25 17:39 -42.5-145.5.met\n",
      "-rw-r--r--  1 rick  staff  29068 Apr 25 17:39 -42.5-146.0.met\n",
      "-rw-r--r--  1 rick  staff  29068 Apr 25 17:39 -42.5-146.5.met\n",
      "\n"
     ]
    }
   ],
   "source": [
    "# imitating example in \n",
    "# https://github.com/JJguri/bestiapop/blob/master/sample-data/ExampleMapsTasmania.ipynb\n",
    "\n",
    "\n",
    "sys.path.append('/Users/rick/github/bestiapop_WORKING/')\n",
    "# sys.path.append('/Users/rick/github/bestiapop_WORKING/bestiapop_INSIDE')\n",
    "from bestiapop_INSIDE import bestiapop as bp\n",
    "\n",
    "working_dir = '/Users/rick/AG-CODE--v02/BESTIAPOP/OUTPUTS/'\n",
    "\n",
    "target_dir = 'test_' + curr_timestamp()\n",
    "output_path = working_dir + target_dir\n",
    "print('Output files will be written into: ', output_path, '\\n')\n",
    "\n",
    "os.mkdir(working_dir + target_dir)\n",
    "\n",
    "year_range = '2010-2012' # using this string format rather than, e.g., np.array([2010,2011,2012])\n",
    "\n",
    "# these are the only climate variables supported by BestiaPop on NASAPOWER data\n",
    "climate_variables = np.array(['daily_rain', 'max_temp', 'min_temp', 'radiation'])\n",
    "\n",
    "# on NASAPOWER, it works on round numbers and xx.5 numbers only; \n",
    "# if you give it a coordinate such as 145.63 it will round to 145.5 and/or 146\n",
    "lat_range = [-42.5, -42] \n",
    "lon_range = [145.5, 146.5] \n",
    "\n",
    "action = 'generate-climate-file'\n",
    "data_source = 'nasapower'\n",
    "output_type = 'met'\n",
    "\n",
    "print('Fetching data for {}/{}'.format(lat_range, lon_range))\n",
    "climate_data = bp.CLIMATEBEAST(\n",
    "        action=action,\n",
    "        data_source=data_source,\n",
    "        output_path=output_path,\n",
    "        output_type=output_type,\n",
    "        input_path=None,\n",
    "        climate_variables=climate_variables,\n",
    "        year_range=year_range,\n",
    "        lat_range=lat_range,\n",
    "        lon_range=lon_range,\n",
    "        multiprocessing=None\n",
    "        )\n",
    "print()\n",
    "print('The climate_data object has value:\\n', str(climate_data))\n",
    "print('\\n\\nThe fields with the climate_data object are:\\n\\n', climate_data.__dir__())\n",
    "print()\n",
    "print('invoking climate_data.process_records(action)\\n')\n",
    "climate_data.process_records(action)\n",
    "print('\\nfinished with invocation of climate_data.process_records(action)\\n\\n')\n",
    "\n",
    "file_list = subprocess.run([\"ls -l \" + output_path], shell=True, capture_output=True, text=True)\n",
    "print('The list of files created is as follows:\\n')\n",
    "print(file_list.stdout)\n"
   ]
  },
  {
   "cell_type": "markdown",
   "id": "e56fec3a",
   "metadata": {},
   "source": [
    "### <span style=color:blue>Here is a question for jupyter/python experts... I am running in a conda environment where I installed python3.7, and the pandas version I have there is 1.3.5 (which is before append on dataframes was deprecated), but when the next cell runs it ends up finding a pandas from my base environment which has python 3.10 and a more recent pandas version.  Is there a way to block python from reaching into my python3.10 installation?     </span>\n"
   ]
  },
  {
   "cell_type": "code",
   "execution_count": 9,
   "id": "b8772237",
   "metadata": {},
   "outputs": [
    {
     "name": "stderr",
     "output_type": "stream",
     "text": [
      "2023-04-25 17:40:28 - POPBEAST - Extracting data and converting to met format\n"
     ]
    },
    {
     "name": "stdout",
     "output_type": "stream",
     "text": [
      "Output files will be written into:  /Users/rick/AG-CODE--v02/BESTIAPOP/OUTPUTS/test_2023-04-25_17-40-28 \n",
      "\n",
      "Fetching data for [-42.5, -42]/[145.5, 146.5]\n",
      "\n",
      "The climate_data object has value:\n",
      " <bestiapop.bestiapop.CLIMATEBEAST object at 0x122f1dcf0>\n",
      "\n",
      "\n",
      "The fields with the climate_data object are:\n",
      "\n",
      " ['logger', 'multiprocessing', 'total_parallel_climate_df', 'final_parallel_lon_range', 'output_type', 'action', 'climate_variables', 'data_source', 'input_path', 'outputdir', 'year_range', 'lat_range', 'lon_range', '__module__', '__doc__', '__init__', 'process_parallel_records', 'process_parallel_met', 'process_parallel_output', 'process_records', '__dict__', '__weakref__', '__new__', '__repr__', '__hash__', '__str__', '__getattribute__', '__setattr__', '__delattr__', '__lt__', '__le__', '__eq__', '__ne__', '__gt__', '__ge__', '__reduce_ex__', '__reduce__', '__subclasshook__', '__init_subclass__', '__format__', '__sizeof__', '__dir__', '__class__']\n",
      "\n",
      "invoking climate_data.process_records(action)\n",
      "\n",
      "Total Progress:   0%|                                     | 0/2 [00:03<?, ?it/s]\n"
     ]
    },
    {
     "ename": "AttributeError",
     "evalue": "'DataFrame' object has no attribute 'append'",
     "output_type": "error",
     "traceback": [
      "\u001b[0;31m---------------------------------------------------------------------------\u001b[0m",
      "\u001b[0;31mAttributeError\u001b[0m                            Traceback (most recent call last)",
      "Cell \u001b[0;32mIn[9], line 41\u001b[0m\n\u001b[1;32m     39\u001b[0m \u001b[38;5;28mprint\u001b[39m()\n\u001b[1;32m     40\u001b[0m \u001b[38;5;28mprint\u001b[39m(\u001b[38;5;124m'\u001b[39m\u001b[38;5;124minvoking climate_data.process_records(action)\u001b[39m\u001b[38;5;130;01m\\n\u001b[39;00m\u001b[38;5;124m'\u001b[39m)\n\u001b[0;32m---> 41\u001b[0m \u001b[43mclimate_data\u001b[49m\u001b[38;5;241;43m.\u001b[39;49m\u001b[43mprocess_records\u001b[49m\u001b[43m(\u001b[49m\u001b[43maction\u001b[49m\u001b[43m)\u001b[49m\n\u001b[1;32m     42\u001b[0m \u001b[38;5;28mprint\u001b[39m(\u001b[38;5;124m'\u001b[39m\u001b[38;5;130;01m\\n\u001b[39;00m\u001b[38;5;124mfinished with invocation of climate_data.process_records(action)\u001b[39m\u001b[38;5;130;01m\\n\u001b[39;00m\u001b[38;5;130;01m\\n\u001b[39;00m\u001b[38;5;124m'\u001b[39m)\n\u001b[1;32m     44\u001b[0m file_list \u001b[38;5;241m=\u001b[39m subprocess\u001b[38;5;241m.\u001b[39mrun([\u001b[38;5;124m\"\u001b[39m\u001b[38;5;124mls -l \u001b[39m\u001b[38;5;124m\"\u001b[39m \u001b[38;5;241m+\u001b[39m output_path], shell\u001b[38;5;241m=\u001b[39m\u001b[38;5;28;01mTrue\u001b[39;00m, capture_output\u001b[38;5;241m=\u001b[39m\u001b[38;5;28;01mTrue\u001b[39;00m, text\u001b[38;5;241m=\u001b[39m\u001b[38;5;28;01mTrue\u001b[39;00m)\n",
      "File \u001b[0;32m~/github/bestiapop/bestiapop/bestiapop.py:596\u001b[0m, in \u001b[0;36mCLIMATEBEAST.process_records\u001b[0;34m(self, action)\u001b[0m\n\u001b[1;32m    588\u001b[0m     \u001b[38;5;28;01melif\u001b[39;00m \u001b[38;5;28mself\u001b[39m\u001b[38;5;241m.\u001b[39mdata_source \u001b[38;5;241m==\u001b[39m \u001b[38;5;124m\"\u001b[39m\u001b[38;5;124mnasapower\u001b[39m\u001b[38;5;124m\"\u001b[39m:\n\u001b[1;32m    589\u001b[0m         \u001b[38;5;66;03m# Initialize BestiaPop required class instances\u001b[39;00m\n\u001b[1;32m    590\u001b[0m         nasapower \u001b[38;5;241m=\u001b[39m nasapower_connector\u001b[38;5;241m.\u001b[39mNASAPowerClimateDataConnector(\n\u001b[1;32m    591\u001b[0m             climate_variables\u001b[38;5;241m=\u001b[39m\u001b[38;5;28mself\u001b[39m\u001b[38;5;241m.\u001b[39mclimate_variables,\n\u001b[1;32m    592\u001b[0m             data_source\u001b[38;5;241m=\u001b[39m\u001b[38;5;28mself\u001b[39m\u001b[38;5;241m.\u001b[39mdata_source,\n\u001b[1;32m    593\u001b[0m             input_path\u001b[38;5;241m=\u001b[39m\u001b[38;5;28mself\u001b[39m\u001b[38;5;241m.\u001b[39minput_path,\n\u001b[1;32m    594\u001b[0m         )\n\u001b[0;32m--> 596\u001b[0m         final_df_latlon_tuple_list \u001b[38;5;241m=\u001b[39m \u001b[43mnasapower\u001b[49m\u001b[38;5;241;43m.\u001b[39;49m\u001b[43mgenerate_climate_dataframe_from_nasapower_cloud_api\u001b[49m\u001b[43m(\u001b[49m\n\u001b[1;32m    597\u001b[0m \u001b[43m            \u001b[49m\u001b[43myear_range\u001b[49m\u001b[38;5;241;43m=\u001b[39;49m\u001b[38;5;28;43mself\u001b[39;49m\u001b[38;5;241;43m.\u001b[39;49m\u001b[43myear_range\u001b[49m\u001b[43m,\u001b[49m\n\u001b[1;32m    598\u001b[0m \u001b[43m            \u001b[49m\u001b[43mclimate_variables\u001b[49m\u001b[38;5;241;43m=\u001b[39;49m\u001b[38;5;28;43mself\u001b[39;49m\u001b[38;5;241;43m.\u001b[39;49m\u001b[43mclimate_variables\u001b[49m\u001b[43m,\u001b[49m\u001b[43m \u001b[49m\n\u001b[1;32m    599\u001b[0m \u001b[43m            \u001b[49m\u001b[43mlat_range\u001b[49m\u001b[38;5;241;43m=\u001b[39;49m\u001b[38;5;28;43mself\u001b[39;49m\u001b[38;5;241;43m.\u001b[39;49m\u001b[43mlat_range\u001b[49m\u001b[43m,\u001b[49m\n\u001b[1;32m    600\u001b[0m \u001b[43m            \u001b[49m\u001b[43mlon_range\u001b[49m\u001b[38;5;241;43m=\u001b[39;49m\u001b[38;5;28;43mself\u001b[39;49m\u001b[38;5;241;43m.\u001b[39;49m\u001b[43mlon_range\u001b[49m\u001b[43m,\u001b[49m\n\u001b[1;32m    601\u001b[0m \u001b[43m            \u001b[49m\u001b[43minput_dir\u001b[49m\u001b[38;5;241;43m=\u001b[39;49m\u001b[38;5;28;43mself\u001b[39;49m\u001b[38;5;241;43m.\u001b[39;49m\u001b[43minput_path\u001b[49m\n\u001b[1;32m    602\u001b[0m \u001b[43m        \u001b[49m\u001b[43m)\u001b[49m\n\u001b[1;32m    603\u001b[0m \u001b[38;5;28;01melse\u001b[39;00m:\n\u001b[1;32m    604\u001b[0m     final_df_latlon_tuple_list \u001b[38;5;241m=\u001b[39m beastutils\u001b[38;5;241m.\u001b[39mgenerate_climate_dataframe_from_disk(\n\u001b[1;32m    605\u001b[0m         year_range\u001b[38;5;241m=\u001b[39m\u001b[38;5;28mself\u001b[39m\u001b[38;5;241m.\u001b[39myear_range,\n\u001b[1;32m    606\u001b[0m         climate_variables\u001b[38;5;241m=\u001b[39m\u001b[38;5;28mself\u001b[39m\u001b[38;5;241m.\u001b[39mclimate_variables, \n\u001b[0;32m   (...)\u001b[0m\n\u001b[1;32m    609\u001b[0m         input_dir\u001b[38;5;241m=\u001b[39m\u001b[38;5;28mself\u001b[39m\u001b[38;5;241m.\u001b[39minput_path\n\u001b[1;32m    610\u001b[0m     )\n",
      "File \u001b[0;32m~/github/bestiapop/bestiapop/connectors/nasapower_connector.py:350\u001b[0m, in \u001b[0;36mNASAPowerClimateDataConnector.generate_climate_dataframe_from_nasapower_cloud_api\u001b[0;34m(self, year_range, climate_variables, lat_range, lon_range, input_dir)\u001b[0m\n\u001b[1;32m    347\u001b[0m                     \u001b[38;5;28;01mcontinue\u001b[39;00m\n\u001b[1;32m    349\u001b[0m                 \u001b[38;5;66;03m# delete the var_year_lat_lon_df back to zero.\u001b[39;00m\n\u001b[0;32m--> 350\u001b[0m                 total_climate_df \u001b[38;5;241m=\u001b[39m \u001b[43mtotal_climate_df\u001b[49m\u001b[38;5;241;43m.\u001b[39;49m\u001b[43mappend\u001b[49m(var_year_lat_lon_df)\n\u001b[1;32m    351\u001b[0m                 \u001b[38;5;28;01mdel\u001b[39;00m var_year_lat_lon_df\n\u001b[1;32m    353\u001b[0m \u001b[38;5;66;03m# Remove any empty lon values from longitude array so as to avoid empty MET generation\u001b[39;00m\n",
      "File \u001b[0;32m~/anaconda3/lib/python3.10/site-packages/pandas/core/generic.py:5989\u001b[0m, in \u001b[0;36mNDFrame.__getattr__\u001b[0;34m(self, name)\u001b[0m\n\u001b[1;32m   5982\u001b[0m \u001b[38;5;28;01mif\u001b[39;00m (\n\u001b[1;32m   5983\u001b[0m     name \u001b[38;5;129;01mnot\u001b[39;00m \u001b[38;5;129;01min\u001b[39;00m \u001b[38;5;28mself\u001b[39m\u001b[38;5;241m.\u001b[39m_internal_names_set\n\u001b[1;32m   5984\u001b[0m     \u001b[38;5;129;01mand\u001b[39;00m name \u001b[38;5;129;01mnot\u001b[39;00m \u001b[38;5;129;01min\u001b[39;00m \u001b[38;5;28mself\u001b[39m\u001b[38;5;241m.\u001b[39m_metadata\n\u001b[1;32m   5985\u001b[0m     \u001b[38;5;129;01mand\u001b[39;00m name \u001b[38;5;129;01mnot\u001b[39;00m \u001b[38;5;129;01min\u001b[39;00m \u001b[38;5;28mself\u001b[39m\u001b[38;5;241m.\u001b[39m_accessors\n\u001b[1;32m   5986\u001b[0m     \u001b[38;5;129;01mand\u001b[39;00m \u001b[38;5;28mself\u001b[39m\u001b[38;5;241m.\u001b[39m_info_axis\u001b[38;5;241m.\u001b[39m_can_hold_identifiers_and_holds_name(name)\n\u001b[1;32m   5987\u001b[0m ):\n\u001b[1;32m   5988\u001b[0m     \u001b[38;5;28;01mreturn\u001b[39;00m \u001b[38;5;28mself\u001b[39m[name]\n\u001b[0;32m-> 5989\u001b[0m \u001b[38;5;28;01mreturn\u001b[39;00m \u001b[38;5;28;43mobject\u001b[39;49m\u001b[38;5;241;43m.\u001b[39;49m\u001b[38;5;21;43m__getattribute__\u001b[39;49m\u001b[43m(\u001b[49m\u001b[38;5;28;43mself\u001b[39;49m\u001b[43m,\u001b[49m\u001b[43m \u001b[49m\u001b[43mname\u001b[49m\u001b[43m)\u001b[49m\n",
      "\u001b[0;31mAttributeError\u001b[0m: 'DataFrame' object has no attribute 'append'"
     ]
    }
   ],
   "source": [
    "# imitating example in \n",
    "# https://github.com/JJguri/bestiapop/blob/master/sample-data/ExampleMapsTasmania.ipynb\n",
    "\n",
    "sys.path.append('/Users/rick/github/bestiapop/')\n",
    "from bestiapop import bestiapop as bp\n",
    "\n",
    "working_dir = '/Users/rick/AG-CODE--v02/BESTIAPOP/OUTPUTS/'\n",
    "\n",
    "target_dir = 'test_' + curr_timestamp()\n",
    "output_path = working_dir + target_dir\n",
    "print('Output files will be written into: ', output_path, '\\n')\n",
    "\n",
    "os.mkdir(working_dir + target_dir)\n",
    "\n",
    "year_range = '2010-2012' # rather than, e.g., np.array([2010,2011,2012])\n",
    "climate_variables = np.array(['daily_rain', 'max_temp', 'min_temp', 'radiation'])\n",
    "lat_range = [-42.5, -42] \n",
    "lon_range = [145.5, 146.5] \n",
    "action = 'generate-climate-file'\n",
    "data_source = 'nasapower'\n",
    "output_type = 'met'\n",
    "\n",
    "print('Fetching data for {}/{}'.format(lat_range, lon_range))\n",
    "climate_data = bp.CLIMATEBEAST(\n",
    "        action=action,\n",
    "        data_source=data_source,\n",
    "        output_path=output_path,\n",
    "        output_type=output_type,\n",
    "        input_path=None,\n",
    "        climate_variables=climate_variables,\n",
    "        year_range=year_range,\n",
    "        lat_range=lat_range,\n",
    "        lon_range=lon_range,\n",
    "        multiprocessing=None\n",
    "        )\n",
    "print()\n",
    "print('The climate_data object has value:\\n', str(climate_data))\n",
    "print('\\n\\nThe fields with the climate_data object are:\\n\\n', climate_data.__dir__())\n",
    "print()\n",
    "print('invoking climate_data.process_records(action)\\n')\n",
    "climate_data.process_records(action)\n",
    "print('\\nfinished with invocation of climate_data.process_records(action)\\n\\n')\n",
    "\n",
    "file_list = subprocess.run([\"ls -l \" + output_path], shell=True, capture_output=True, text=True)\n",
    "print('The list of files created is as follows:\\n')\n",
    "print(file_list.stdout)\n"
   ]
  },
  {
   "cell_type": "code",
   "execution_count": null,
   "id": "974a8018",
   "metadata": {},
   "outputs": [],
   "source": []
  }
 ],
 "metadata": {
  "kernelspec": {
   "display_name": "py37",
   "language": "python",
   "name": "py37"
  },
  "language_info": {
   "codemirror_mode": {
    "name": "ipython",
    "version": 3
   },
   "file_extension": ".py",
   "mimetype": "text/x-python",
   "name": "python",
   "nbconvert_exporter": "python",
   "pygments_lexer": "ipython3",
   "version": "3.10.10"
  }
 },
 "nbformat": 4,
 "nbformat_minor": 5
}
