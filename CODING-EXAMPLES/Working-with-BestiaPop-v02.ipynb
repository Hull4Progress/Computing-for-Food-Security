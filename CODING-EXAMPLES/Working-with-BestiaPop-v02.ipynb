{
 "cells": [
  {
   "cell_type": "markdown",
   "id": "41503330",
   "metadata": {},
   "source": [
    "## <span style=color:blue>Working with BestiaPop</span>\n",
    "\n",
    "### <span style=color:blue>I downloaded BestiaPop from github: https://github.com/JJguri/bestiapop .  That was built using python 3.7.  It doesn't work with python 3.10 because the file nasapower_connector.py within BestiaPop uses the dataframe append command, but in python 3.10 pandas was updated and append was deprecated.  (One has to use concat instead).  So I created a python environment that runs python 3.7 rather than python 3.10.  I run this notebook in my python 3.7 environment.</span>"
   ]
  },
  {
   "cell_type": "code",
   "execution_count": 5,
   "id": "d3f97dc0",
   "metadata": {},
   "outputs": [
    {
     "name": "stdout",
     "output_type": "stream",
     "text": [
      "Initial imports successful\n"
     ]
    }
   ],
   "source": [
    "import sys\n",
    "import os\n",
    "import subprocess\n",
    "import shutil\n",
    "# use shutil.rmtree(<path_to_folder>) to do an rm -r on the folder\n",
    "\n",
    "import json\n",
    "import csv\n",
    "# import yaml\n",
    "\n",
    "import pandas as pd\n",
    "import numpy as np\n",
    "\n",
    "# import matplotlib as mpl\n",
    "# from cycler import cycler\n",
    "\n",
    "# import matplotlib.pyplot as plt\n",
    "# import seaborn as sns\n",
    "# sns.set(style=\"darkgrid\")\n",
    "\n",
    "# This useful if I want to give unique names to directories or files\n",
    "import datetime\n",
    "def curr_timestamp():\n",
    "    current_datetime = datetime.datetime.now()\n",
    "    formatted_datetime = current_datetime.strftime(\"%Y-%m-%d_%H-%M-%S\")\n",
    "    return formatted_datetime\n",
    "\n",
    "print('Initial imports successful')"
   ]
  },
  {
   "cell_type": "markdown",
   "id": "39fea573",
   "metadata": {},
   "source": [
    "<span style=color:blue>\n",
    "The following cell illustrates how we can invoke methods directly from the github version of bestiapop.  However, since the bestiapop code uses an append on a dataframe, and pandas deprecated the append operator for dataframes, I could not make the downloaded bestiapop work.\n",
    "\n",
    "More specifically, even though I am running in python3.7, if I use BestiaPop from the github repo then somehow my python kernel finds a recent version of pandas in which dataframe append has been deprecated.  (See the last cell in this notebook.)  \n",
    "\n",
    "So I made a one-line change to the module nasapower_connector.py within the file bestiapop/bestiapop/connectors/nasapower_connector.py.  Specifically, somewhere near line 353 I replaced the line \"total_climate_df = total_climate_df.append(var_year_lat_lon_df)\" with the line \"total_climate_df = pd.concat([total_climate_df, var_year_lat_lon_df])\".\n",
    "\n",
    "Also, it seems that I needed to change the names of both the outer \"bestiapop\" directory and the inner \"bestiapop\" directory, because otherwise the system was giving me errors because it was calling some stray files from a previous import of the PyPi version of bestiapop.</span>\n"
   ]
  },
  {
   "cell_type": "code",
   "execution_count": 7,
   "id": "008f4964",
   "metadata": {},
   "outputs": [
    {
     "name": "stdout",
     "output_type": "stream",
     "text": [
      "Output files will be written into:  /Users/rick/AG-CODE-BESTIAPOP/OUTPUTS/test_2023-05-02_18-14-38 \n",
      "\n",
      "Fetching data for [-42.5, -41.5]/[144.5, 146]\n",
      "\n",
      "The climate_data object has value:\n",
      " <bestiapop.bestiapop.CLIMATEBEAST object at 0x7feeb478a790>\n",
      "\n",
      "\n",
      "The fields with the climate_data object are:\n",
      "\n",
      " ['logger', 'multiprocessing', 'total_parallel_climate_df', 'final_parallel_lon_range', 'output_type', 'action', 'climate_variables', 'data_source', 'input_path', 'outputdir', 'year_range', 'lat_range', 'lon_range', '__module__', '__doc__', '__init__', 'process_parallel_records', 'process_parallel_met', 'process_parallel_output', 'process_records', '__dict__', '__weakref__', '__repr__', '__hash__', '__str__', '__getattribute__', '__setattr__', '__delattr__', '__lt__', '__le__', '__eq__', '__ne__', '__gt__', '__ge__', '__new__', '__reduce_ex__', '__reduce__', '__subclasshook__', '__init_subclass__', '__format__', '__sizeof__', '__dir__', '__class__']\n",
      "\n",
      "invoking climate_data.process_records(action)\n",
      "\n",
      "Total Progress: 100%|#############################| 3/3 [00:37<00:00, 12.57s/it]\n",
      "\n",
      "finished with invocation of climate_data.process_records(action)\n",
      "\n",
      "\n",
      "The list of files created is as follows:\n",
      "\n",
      "total 768\n",
      "-rw-r--r--  1 rick  staff  30395 May  2 18:15 -41.5-144.5.met\n",
      "-rw-r--r--  1 rick  staff  29512 May  2 18:15 -41.5-145.0.met\n",
      "-rw-r--r--  1 rick  staff  29154 May  2 18:15 -41.5-145.5.met\n",
      "-rw-r--r--  1 rick  staff  29225 May  2 18:15 -41.5-146.0.met\n",
      "-rw-r--r--  1 rick  staff  30359 May  2 18:15 -42.0-144.5.met\n",
      "-rw-r--r--  1 rick  staff  30200 May  2 18:15 -42.0-145.0.met\n",
      "-rw-r--r--  1 rick  staff  29172 May  2 18:15 -42.0-145.5.met\n",
      "-rw-r--r--  1 rick  staff  29028 May  2 18:15 -42.0-146.0.met\n",
      "-rw-r--r--  1 rick  staff  30267 May  2 18:15 -42.5-144.5.met\n",
      "-rw-r--r--  1 rick  staff  30082 May  2 18:15 -42.5-145.0.met\n",
      "-rw-r--r--  1 rick  staff  29382 May  2 18:15 -42.5-145.5.met\n",
      "-rw-r--r--  1 rick  staff  29068 May  2 18:15 -42.5-146.0.met\n",
      "\n"
     ]
    }
   ],
   "source": [
    "# imitating example in \n",
    "# https://github.com/JJguri/bestiapop/blob/master/sample-data/ExampleMapsTasmania.ipynb\n",
    "\n",
    "sys.path.append('/Users/rick/github/bestiapop/')\n",
    "from bestiapop import bestiapop as bp\n",
    "\n",
    "\n",
    "# sys.path.append('/Users/rick/github/bestiapop_WORKING/')\n",
    "# sys.path.append('/Users/rick/github/bestiapop_WORKING/bestiapop_INSIDE')\n",
    "# from bestiapop_INSIDE import bestiapop as bp\n",
    "\n",
    "working_dir = '/Users/rick/AG-CODE-BESTIAPOP/OUTPUTS/'\n",
    "\n",
    "target_dir = 'test_' + curr_timestamp()\n",
    "output_path = working_dir + target_dir\n",
    "print('Output files will be written into: ', output_path, '\\n')\n",
    "\n",
    "os.mkdir(working_dir + target_dir)\n",
    "\n",
    "year_range = '2010-2012' # using this string format rather than, e.g., np.array([2010,2011,2012])\n",
    "\n",
    "# these are the only climate variables supported by BestiaPop on NASAPOWER data\n",
    "climate_variables = np.array(['daily_rain', 'max_temp', 'min_temp', 'radiation'])\n",
    "\n",
    "# on NASAPOWER, it works on round numbers and xx.5 numbers only; \n",
    "# if you give it a coordinate such as 145.63 it will round to 145.5 and/or 146\n",
    "lat_range = [-42.5, -41.5] \n",
    "lon_range = [144.5, 146] \n",
    "\n",
    "action = 'generate-climate-file'\n",
    "data_source = 'nasapower'\n",
    "output_type = 'met'\n",
    "\n",
    "print('Fetching data for {}/{}'.format(lat_range, lon_range))\n",
    "climate_data = bp.CLIMATEBEAST(\n",
    "        action=action,\n",
    "        data_source=data_source,\n",
    "        output_path=output_path,\n",
    "        output_type=output_type,\n",
    "        input_path=None,\n",
    "        climate_variables=climate_variables,\n",
    "        year_range=year_range,\n",
    "        lat_range=lat_range,\n",
    "        lon_range=lon_range,\n",
    "        multiprocessing=None\n",
    "        )\n",
    "print()\n",
    "print('The climate_data object has value:\\n', str(climate_data))\n",
    "print('\\n\\nThe fields with the climate_data object are:\\n\\n', climate_data.__dir__())\n",
    "print()\n",
    "print('invoking climate_data.process_records(action)\\n')\n",
    "climate_data.process_records(action)\n",
    "print('\\nfinished with invocation of climate_data.process_records(action)\\n\\n')\n",
    "\n",
    "file_list = subprocess.run([\"ls -l \" + output_path], shell=True, capture_output=True, text=True)\n",
    "print('The list of files created is as follows:\\n')\n",
    "print(file_list.stdout)\n"
   ]
  }
 ],
 "metadata": {
  "kernelspec": {
   "display_name": "Python [conda env:py37]",
   "language": "python",
   "name": "conda-env-py37-py"
  },
  "language_info": {
   "codemirror_mode": {
    "name": "ipython",
    "version": 3
   },
   "file_extension": ".py",
   "mimetype": "text/x-python",
   "name": "python",
   "nbconvert_exporter": "python",
   "pygments_lexer": "ipython3",
   "version": "3.7.16"
  }
 },
 "nbformat": 4,
 "nbformat_minor": 5
}
